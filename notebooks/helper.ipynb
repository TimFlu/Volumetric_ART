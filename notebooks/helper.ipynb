{
 "cells": [
  {
   "cell_type": "code",
   "execution_count": 117,
   "metadata": {},
   "outputs": [],
   "source": [
    "import numpy as np\n",
    "import pickle as pkl\n",
    "import matplotlib.pyplot as plt\n",
    "import os\n",
    "from scipy.optimize import dual_annealing"
   ]
  },
  {
   "cell_type": "code",
   "execution_count": 38,
   "metadata": {},
   "outputs": [],
   "source": [
    "# Load the data\n",
    "DATA_PATH = '../data/'\n",
    "all_data = pkl.load(open(os.path.join(DATA_PATH, 'all_data.pkl'), 'rb'))\n",
    "for patient_id in all_data.keys():\n",
    "    all_data[patient_id]['data'] = all_data[patient_id]['data'].drop([index for index in all_data[patient_id]['data'].index if 'REPLAN' in index or 'RT' in index or 'PT' in index])\n",
    "\n",
    "patient_001_data = all_data['001']['data']\n",
    "patient_001_label = all_data['001']['label']"
   ]
  },
  {
   "cell_type": "code",
   "execution_count": 55,
   "metadata": {},
   "outputs": [],
   "source": [
    "def feature_extraction(volume_diff, model_index='1'):\n",
    "    assert len(volume_diff) >= 5, \"Volume difference must have more than 5 measurements\"\n",
    "    # Extract the mean over the last two measurements\n",
    "    feature1 = np.mean(volume_diff[-2:], axis=0)\n",
    "\n",
    "    # Calculate a linear regression over the data\n",
    "    x = np.arange(len(volume_diff))\n",
    "    y = volume_diff\n",
    "    A = np.vstack([x, np.ones(len(x))]).T\n",
    "    feature2, c = np.linalg.lstsq(A, y, rcond=None)[0]\n",
    "\n",
    "    # Calculate a linear regression over the last 5 measurements\n",
    "    x = np.arange(len(volume_diff) - 5, len(volume_diff))\n",
    "    y = volume_diff[-5:]\n",
    "    A = np.vstack([x, np.ones(len(x))]).T\n",
    "    feature3, c = np.linalg.lstsq(A, y, rcond=None)[0]\n",
    "\n",
    "    if model_index == '1':\n",
    "        return [feature1, feature2, feature3]\n",
    "    elif model_index == '2':\n",
    "        return [feature1, feature3]\n",
    "    elif model_index == '3':\n",
    "        return [feature1, feature2]\n",
    "    elif model_index == '4':\n",
    "        return [feature1]\n",
    "\n",
    "    return \n",
    "        "
   ]
  },
  {
   "cell_type": "code",
   "execution_count": 149,
   "metadata": {},
   "outputs": [
    {
     "data": {
      "text/plain": [
       "0.9285714285714286"
      ]
     },
     "execution_count": 149,
     "metadata": {},
     "output_type": "execute_result"
    }
   ],
   "source": [
    "def loss_function(true_replan_fraction, estimated_replan_fraction, late_pun=0.8, false_negative=900, false_positive=300):\n",
    "    if (true_replan_fraction != 0 and estimated_replan_fraction == 0):\n",
    "        return late_pun*(33 - true_replan_fraction)**2 + false_negative # Punish for the remaining fractions\n",
    "    elif (true_replan_fraction == 0 and estimated_replan_fraction != 0):\n",
    "        return late_pun*(estimated_replan_fraction) + false_positive # Punish for the remaining fractions\n",
    "    elif estimated_replan_fraction > true_replan_fraction:\n",
    "        return late_pun * (estimated_replan_fraction - true_replan_fraction)**2\n",
    "    elif estimated_replan_fraction <= true_replan_fraction:\n",
    "        return (1 - late_pun) * (true_replan_fraction - estimated_replan_fraction)**2\n",
    "    else:\n",
    "        print('Error in loss function')\n",
    "    \n",
    "\n",
    "\n",
    "def model(all_data, thresholds, model_index='1', p_late_pun=0.8, p_false_negative=900, p_false_positive=300, f1_score=False):\n",
    "    overall_loss = []\n",
    "    tp = 0\n",
    "    tn = 0\n",
    "    fp = 0\n",
    "    fn = 0\n",
    "    for key in all_data.keys():\n",
    "        # print(f'analyzing patient {key}')\n",
    "        data = all_data[key]['data']['volume difference to pCT [%]'].to_numpy()\n",
    "        label = all_data[key]['label'][0]\n",
    "        estim_replan_fraction = 0\n",
    "        \n",
    "        for i in range(5, len(data) + 1):\n",
    "            # Extract the features\n",
    "            features = feature_extraction(data[:i], model_index=model_index)\n",
    "            \n",
    "            if (features < thresholds).all():\n",
    "                # print(f'patient {key} exceeded the threshold at {i} measurements')\n",
    "                estim_replan_fraction = i\n",
    "                break\n",
    "\n",
    "    \n",
    "        overall_loss += [loss_function(label, estim_replan_fraction, p_late_pun, p_false_negative, p_false_positive)]\n",
    "        if label > 0 and estim_replan_fraction > 0:\n",
    "            tp += 1\n",
    "        elif label == 0 and estim_replan_fraction == 0:\n",
    "            tn += 1\n",
    "        elif label > 0 and estim_replan_fraction == 0:\n",
    "            fp += 1\n",
    "        elif label == 0 and estim_replan_fraction > 0:\n",
    "            fn += 1\n",
    "        \n",
    "    \n",
    "    # Calculate the overall loss and f1 score\n",
    "    overall_loss = np.mean(overall_loss)\n",
    "    precision = tp / (tp + fp) if (tp + fp) > 0 else 0\n",
    "    recall = tp / (tp + fn) if (tp + fn) > 0 else 0\n",
    "    f1 = 2 * (precision * recall) / (precision + recall) if (precision + recall) > 0 else 0\n",
    "    if f1_score:\n",
    "        return f1\n",
    "    # print(f'Overall loss: {overall_loss}')\n",
    "    return overall_loss\n",
    "\n",
    "# model(all_data, [0.5, 0.5, 0.5], model_index='1')\n",
    "model(all_data, [-3.02068759], model_index='4', f1_score=True)"
   ]
  },
  {
   "cell_type": "code",
   "execution_count": 121,
   "metadata": {},
   "outputs": [
    {
     "name": "stdout",
     "output_type": "stream",
     "text": [
      "[-2.01708158]\n",
      "40.86666666666666\n"
     ]
    }
   ],
   "source": [
    "result = dual_annealing(lambda x: model(all_data, x, '4'), bounds=[(-4, -1)], maxiter=1000)\n",
    "print(result.x)\n",
    "print(result.fun)"
   ]
  },
  {
   "cell_type": "code",
   "execution_count": 90,
   "metadata": {},
   "outputs": [
    {
     "name": "stdout",
     "output_type": "stream",
     "text": [
      "Best loss: 31.476190476190474\n",
      "Best thresholds: [-2.895275380478356, -0.06426726157043006]\n"
     ]
    }
   ],
   "source": [
    "from skopt import gp_minimize\n",
    "from skopt.space import Real\n",
    "\n",
    "def objective(thresholds):\n",
    "    thresholds = np.array(thresholds)\n",
    "    return model(all_data, thresholds, model_index='3')\n",
    "\n",
    "res = gp_minimize(\n",
    "    objective,\n",
    "    dimensions=[Real(-4, -1), Real(-1.5, 0)],  # Adjust ranges based on expected threshold space\n",
    "    n_calls=100,\n",
    "    random_state=0\n",
    ")\n",
    "\n",
    "print(\"Best loss:\", res.fun)\n",
    "print(\"Best thresholds:\", res.x)\n"
   ]
  },
  {
   "cell_type": "code",
   "execution_count": 110,
   "metadata": {},
   "outputs": [
    {
     "name": "stdout",
     "output_type": "stream",
     "text": [
      "[0]\n",
      "[1]\n",
      "[2]\n",
      "[3]\n",
      "[4]\n",
      "[5]\n",
      "[6]\n",
      "[7]\n",
      "[8]\n",
      "[9]\n",
      "[10]\n",
      "[11]\n",
      "[12]\n",
      "[13]\n",
      "[14]\n",
      "[15]\n",
      "[16]\n",
      "[17]\n",
      "[18]\n",
      "[19]\n",
      "[20]\n"
     ]
    }
   ],
   "source": [
    "# LOOCV\n",
    "from sklearn.model_selection import LeaveOneOut\n",
    "from sklearn.linear_model import LogisticRegression\n",
    "from sklearn.metrics import accuracy_score\n",
    "import numpy as np\n",
    "\n",
    "# Example data\n",
    "X = np.array([key for key in all_data.keys()]).reshape(-1, 1)\n",
    "y = np.array([all_data[key]['label'][0] for key in all_data.keys()]).reshape(-1, 1)\n",
    "\n",
    "loo = LeaveOneOut()\n",
    "threshold_list = []\n",
    "error_list = []\n",
    "for train_index, test_index in loo.split(X):\n",
    "    print(test_index)\n",
    "    X_train, X_test = X[train_index], X[test_index]\n",
    "    y_train, y_test = y[train_index], y[test_index]\n",
    "    # print(X_train, X_test, y_train, y_test)\n",
    "    train_data = {key: all_data[key] for key in X_train.flatten()}\n",
    "    test_data = {key: all_data[key] for key in X_test.flatten()}\n",
    "    \n",
    "    # Learn threshold\n",
    "    opt_threshold = dual_annealing(lambda x: model(train_data, x, '4'), bounds=[(-4, -1)], maxiter=1000).x\n",
    "    threshold_list.append(opt_threshold)\n",
    "\n",
    "    error = model(test_data, opt_threshold, '4')\n",
    "    error_list.append(error)\n",
    "\n",
    "    \n",
    "#     model = LogisticRegression()\n",
    "#     model.fit(X_train, y_train)\n",
    "#     y_pred = model.predict(X_test)\n",
    "    \n",
    "#     accuracies.append(accuracy_score(y_test, y_pred))\n",
    "\n",
    "# print(\"Mean LOOCV accuracy:\", np.mean(accuracies))\n",
    "\n"
   ]
  },
  {
   "cell_type": "code",
   "execution_count": 116,
   "metadata": {},
   "outputs": [
    {
     "data": {
      "image/png": "[encoded data removed]",
      "text/plain": [
       "<Figure size 640x480 with 1 Axes>"
      ]
     },
     "metadata": {},
     "output_type": "display_data"
    },
    {
     "data": {
      "text/plain": [
       "<matplotlib.legend.Legend at 0x3164198d0>"
      ]
     },
     "execution_count": 116,
     "metadata": {},
     "output_type": "execute_result"
    },
    {
     "data": {
      "image/png": "[encoded data removed]",
      "text/plain": [
       "<Figure size 640x480 with 1 Axes>"
      ]
     },
     "metadata": {},
     "output_type": "display_data"
    }
   ],
   "source": [
    "plt.plot(threshold_list, label='Thresholds')\n",
    "plt.xticks(range(len(threshold_list)), [f'{i+1}' for i in range(len(threshold_list))])\n",
    "plt.show()\n",
    "plt.plot(error_list, label='Errors')\n",
    "plt.xticks(range(len(threshold_list)), [f'{i+1}' for i in range(len(threshold_list))])\n",
    "plt.xlabel('Iteration')\n",
    "plt.ylabel('Value')\n",
    "plt.legend()"
   ]
  },
  {
   "cell_type": "code",
   "execution_count": 151,
   "metadata": {},
   "outputs": [
    {
     "name": "stdout",
     "output_type": "stream",
     "text": [
      "Patient IDs in test set: ['007' '004' '010' '002' '019' '021']\n",
      "Patient IDs in train set: ['001' '003' '005' '006' '008' '009' '011' '012' '013' '014' '015' '016'\n",
      " '017' '018' '020']\n",
      "Patient in evaluation set: [['001']]\n",
      "Patient in evaluation set: [['003']]\n",
      "Patient in evaluation set: [['005']]\n",
      "Patient in evaluation set: [['006']]\n",
      "Patient in evaluation set: [['008']]\n",
      "Patient in evaluation set: [['009']]\n",
      "Patient in evaluation set: [['011']]\n",
      "Patient in evaluation set: [['012']]\n",
      "Patient in evaluation set: [['013']]\n",
      "Patient in evaluation set: [['014']]\n",
      "Patient in evaluation set: [['015']]\n",
      "Patient in evaluation set: [['016']]\n",
      "Patient in evaluation set: [['017']]\n",
      "Patient in evaluation set: [['018']]\n",
      "Patient in evaluation set: [['020']]\n",
      "[array([-1.95922997]), array([-1.96587077]), array([-3.90892799]), array([-2.00900267]), array([-1.95754751]), array([-2.11611921]), array([-2.05447973]), array([-2.01771506]), array([-2.01270871]), array([-2.08962154]), array([-1.91470979]), array([-2.05625248]), array([-1.95593858]), array([-1.96654737]), array([-2.05092339])]\n",
      "Patient in evaluation set: [['001']]\n",
      "Patient in evaluation set: [['003']]\n",
      "Patient in evaluation set: [['005']]\n",
      "Patient in evaluation set: [['006']]\n",
      "Patient in evaluation set: [['008']]\n",
      "Patient in evaluation set: [['009']]\n",
      "Patient in evaluation set: [['011']]\n",
      "Patient in evaluation set: [['012']]\n",
      "Patient in evaluation set: [['013']]\n",
      "Patient in evaluation set: [['014']]\n",
      "Patient in evaluation set: [['015']]\n",
      "Patient in evaluation set: [['016']]\n",
      "Patient in evaluation set: [['017']]\n",
      "Patient in evaluation set: [['018']]\n",
      "Patient in evaluation set: [['020']]\n",
      "[array([-2.00095235]), array([-1.96898374]), array([-3.86552715]), array([-2.07453238]), array([-2.07590833]), array([-2.09301357]), array([-1.95503634]), array([-2.1030457]), array([-1.96154341]), array([-1.91215809]), array([-2.0235032]), array([-2.06936744]), array([-2.06528867]), array([-1.98160486]), array([-2.12486276])]\n",
      "Patient in evaluation set: [['001']]\n",
      "Patient in evaluation set: [['003']]\n",
      "Patient in evaluation set: [['005']]\n",
      "Patient in evaluation set: [['006']]\n",
      "Patient in evaluation set: [['008']]\n",
      "Patient in evaluation set: [['009']]\n",
      "Patient in evaluation set: [['011']]\n",
      "Patient in evaluation set: [['012']]\n",
      "Patient in evaluation set: [['013']]\n",
      "Patient in evaluation set: [['014']]\n",
      "Patient in evaluation set: [['015']]\n",
      "Patient in evaluation set: [['016']]\n",
      "Patient in evaluation set: [['017']]\n",
      "Patient in evaluation set: [['018']]\n",
      "Patient in evaluation set: [['020']]\n",
      "[array([-2.0917254]), array([-2.11348151]), array([-3.90798591]), array([-2.1210366]), array([-2.02800115]), array([-2.05871427]), array([-2.01929493]), array([-2.05622118]), array([-2.03851697]), array([-1.9567645]), array([-2.07542872]), array([-2.12397297]), array([-1.97482278]), array([-1.99596679]), array([-1.91194493])]\n",
      "Patient in evaluation set: [['001']]\n",
      "Patient in evaluation set: [['003']]\n",
      "Patient in evaluation set: [['005']]\n",
      "Patient in evaluation set: [['006']]\n",
      "Patient in evaluation set: [['008']]\n",
      "Patient in evaluation set: [['009']]\n",
      "Patient in evaluation set: [['011']]\n",
      "Patient in evaluation set: [['012']]\n",
      "Patient in evaluation set: [['013']]\n",
      "Patient in evaluation set: [['014']]\n",
      "Patient in evaluation set: [['015']]\n",
      "Patient in evaluation set: [['016']]\n",
      "Patient in evaluation set: [['017']]\n",
      "Patient in evaluation set: [['018']]\n",
      "Patient in evaluation set: [['020']]\n",
      "[array([-2.11034772]), array([-1.92164227]), array([-3.90850403]), array([-1.94461465]), array([-1.90536237]), array([-1.93575292]), array([-2.0021953]), array([-2.05339459]), array([-2.02965449]), array([-2.10224278]), array([-2.10670304]), array([-2.04582915]), array([-2.07592165]), array([-1.91768976]), array([-2.12641023])]\n",
      "Patient in evaluation set: [['001']]\n",
      "Patient in evaluation set: [['003']]\n",
      "Patient in evaluation set: [['005']]\n",
      "Patient in evaluation set: [['006']]\n",
      "Patient in evaluation set: [['008']]\n",
      "Patient in evaluation set: [['009']]\n",
      "Patient in evaluation set: [['011']]\n",
      "Patient in evaluation set: [['012']]\n",
      "Patient in evaluation set: [['013']]\n",
      "Patient in evaluation set: [['014']]\n",
      "Patient in evaluation set: [['015']]\n",
      "Patient in evaluation set: [['016']]\n",
      "Patient in evaluation set: [['017']]\n",
      "Patient in evaluation set: [['018']]\n",
      "Patient in evaluation set: [['020']]\n"
     ]
    },
    {
     "ename": "KeyboardInterrupt",
     "evalue": "",
     "output_type": "error",
     "traceback": [
      "\u001b[0;31m---------------------------------------------------------------------------\u001b[0m",
      "\u001b[0;31mKeyboardInterrupt\u001b[0m                         Traceback (most recent call last)",
      "Cell \u001b[0;32mIn[151], line 57\u001b[0m\n\u001b[1;32m     54\u001b[0m val_data \u001b[38;5;241m=\u001b[39m {key: all_data[key] \u001b[38;5;28;01mfor\u001b[39;00m key \u001b[38;5;129;01min\u001b[39;00m X_val\u001b[38;5;241m.\u001b[39mflatten()}\n\u001b[1;32m     56\u001b[0m \u001b[38;5;66;03m# Learn threshold\u001b[39;00m\n\u001b[0;32m---> 57\u001b[0m opt_threshold \u001b[38;5;241m=\u001b[39m \u001b[43mdual_annealing\u001b[49m\u001b[43m(\u001b[49m\u001b[38;5;28;43;01mlambda\u001b[39;49;00m\u001b[43m \u001b[49m\u001b[43mx\u001b[49m\u001b[43m:\u001b[49m\u001b[43m \u001b[49m\u001b[43mmodel\u001b[49m\u001b[43m(\u001b[49m\u001b[43mtrain_data\u001b[49m\u001b[43m,\u001b[49m\u001b[43m \u001b[49m\u001b[43mx\u001b[49m\u001b[43m,\u001b[49m\u001b[43m \u001b[49m\u001b[38;5;124;43m'\u001b[39;49m\u001b[38;5;124;43m4\u001b[39;49m\u001b[38;5;124;43m'\u001b[39;49m\u001b[43m)\u001b[49m\u001b[43m,\u001b[49m\u001b[43m \u001b[49m\u001b[43mbounds\u001b[49m\u001b[38;5;241;43m=\u001b[39;49m\u001b[43m[\u001b[49m\u001b[43m(\u001b[49m\u001b[38;5;241;43m-\u001b[39;49m\u001b[38;5;241;43m4\u001b[39;49m\u001b[43m,\u001b[49m\u001b[43m \u001b[49m\u001b[38;5;241;43m-\u001b[39;49m\u001b[38;5;241;43m1\u001b[39;49m\u001b[43m)\u001b[49m\u001b[43m]\u001b[49m\u001b[43m,\u001b[49m\u001b[43m \u001b[49m\u001b[43mmaxiter\u001b[49m\u001b[38;5;241;43m=\u001b[39;49m\u001b[38;5;241;43m1000\u001b[39;49m\u001b[43m)\u001b[49m\u001b[38;5;241m.\u001b[39mx\n\u001b[1;32m     58\u001b[0m threshold_list\u001b[38;5;241m.\u001b[39mappend(opt_threshold)\n\u001b[1;32m     60\u001b[0m error \u001b[38;5;241m=\u001b[39m model(test_data, opt_threshold, \u001b[38;5;124m'\u001b[39m\u001b[38;5;124m4\u001b[39m\u001b[38;5;124m'\u001b[39m)\n",
      "File \u001b[0;32m~/miniconda3/envs/Volumetric_ART/lib/python3.10/site-packages/scipy/_lib/_util.py:440\u001b[0m, in \u001b[0;36m_transition_to_rng.<locals>.decorator.<locals>.wrapper\u001b[0;34m(*args, **kwargs)\u001b[0m\n\u001b[1;32m    433\u001b[0m     message \u001b[38;5;241m=\u001b[39m (\n\u001b[1;32m    434\u001b[0m         \u001b[38;5;124m\"\u001b[39m\u001b[38;5;124mThe NumPy global RNG was seeded by calling \u001b[39m\u001b[38;5;124m\"\u001b[39m\n\u001b[1;32m    435\u001b[0m         \u001b[38;5;124mf\u001b[39m\u001b[38;5;124m\"\u001b[39m\u001b[38;5;124m`np.random.seed`. Beginning in \u001b[39m\u001b[38;5;132;01m{\u001b[39;00mend_version\u001b[38;5;132;01m}\u001b[39;00m\u001b[38;5;124m, this \u001b[39m\u001b[38;5;124m\"\u001b[39m\n\u001b[1;32m    436\u001b[0m         \u001b[38;5;124m\"\u001b[39m\u001b[38;5;124mfunction will no longer use the global RNG.\u001b[39m\u001b[38;5;124m\"\u001b[39m\n\u001b[1;32m    437\u001b[0m     ) \u001b[38;5;241m+\u001b[39m cmn_msg\n\u001b[1;32m    438\u001b[0m     warnings\u001b[38;5;241m.\u001b[39mwarn(message, \u001b[38;5;167;01mFutureWarning\u001b[39;00m, stacklevel\u001b[38;5;241m=\u001b[39m\u001b[38;5;241m2\u001b[39m)\n\u001b[0;32m--> 440\u001b[0m \u001b[38;5;28;01mreturn\u001b[39;00m \u001b[43mfun\u001b[49m\u001b[43m(\u001b[49m\u001b[38;5;241;43m*\u001b[39;49m\u001b[43margs\u001b[49m\u001b[43m,\u001b[49m\u001b[43m \u001b[49m\u001b[38;5;241;43m*\u001b[39;49m\u001b[38;5;241;43m*\u001b[39;49m\u001b[43mkwargs\u001b[49m\u001b[43m)\u001b[49m\n",
      "File \u001b[0;32m~/miniconda3/envs/Volumetric_ART/lib/python3.10/site-packages/scipy/optimize/_dual_annealing.py:708\u001b[0m, in \u001b[0;36mdual_annealing\u001b[0;34m(func, bounds, args, maxiter, minimizer_kwargs, initial_temp, restart_temp_ratio, visit, accept, maxfun, rng, no_local_search, callback, x0)\u001b[0m\n\u001b[1;32m    706\u001b[0m     \u001b[38;5;28;01mbreak\u001b[39;00m\n\u001b[1;32m    707\u001b[0m \u001b[38;5;66;03m# starting strategy chain\u001b[39;00m\n\u001b[0;32m--> 708\u001b[0m val \u001b[38;5;241m=\u001b[39m \u001b[43mstrategy_chain\u001b[49m\u001b[38;5;241;43m.\u001b[39;49m\u001b[43mrun\u001b[49m\u001b[43m(\u001b[49m\u001b[43mi\u001b[49m\u001b[43m,\u001b[49m\u001b[43m \u001b[49m\u001b[43mtemperature\u001b[49m\u001b[43m)\u001b[49m\n\u001b[1;32m    709\u001b[0m \u001b[38;5;28;01mif\u001b[39;00m val \u001b[38;5;129;01mis\u001b[39;00m \u001b[38;5;129;01mnot\u001b[39;00m \u001b[38;5;28;01mNone\u001b[39;00m:\n\u001b[1;32m    710\u001b[0m     message\u001b[38;5;241m.\u001b[39mappend(val)\n",
      "File \u001b[0;32m~/miniconda3/envs/Volumetric_ART/lib/python3.10/site-packages/scipy/optimize/_dual_annealing.py:298\u001b[0m, in \u001b[0;36mStrategyChain.run\u001b[0;34m(self, step, temperature)\u001b[0m\n\u001b[1;32m    295\u001b[0m x_visit \u001b[38;5;241m=\u001b[39m \u001b[38;5;28mself\u001b[39m\u001b[38;5;241m.\u001b[39mvisit_dist\u001b[38;5;241m.\u001b[39mvisiting(\n\u001b[1;32m    296\u001b[0m     \u001b[38;5;28mself\u001b[39m\u001b[38;5;241m.\u001b[39menergy_state\u001b[38;5;241m.\u001b[39mcurrent_location, j, temperature)\n\u001b[1;32m    297\u001b[0m \u001b[38;5;66;03m# Calling the objective function\u001b[39;00m\n\u001b[0;32m--> 298\u001b[0m e \u001b[38;5;241m=\u001b[39m \u001b[38;5;28;43mself\u001b[39;49m\u001b[38;5;241;43m.\u001b[39;49m\u001b[43mfunc_wrapper\u001b[49m\u001b[38;5;241;43m.\u001b[39;49m\u001b[43mfun\u001b[49m\u001b[43m(\u001b[49m\u001b[43mx_visit\u001b[49m\u001b[43m)\u001b[49m\n\u001b[1;32m    299\u001b[0m \u001b[38;5;28;01mif\u001b[39;00m e \u001b[38;5;241m<\u001b[39m \u001b[38;5;28mself\u001b[39m\u001b[38;5;241m.\u001b[39menergy_state\u001b[38;5;241m.\u001b[39mcurrent_energy:\n\u001b[1;32m    300\u001b[0m     \u001b[38;5;66;03m# We have got a better energy value\u001b[39;00m\n\u001b[1;32m    301\u001b[0m     \u001b[38;5;28mself\u001b[39m\u001b[38;5;241m.\u001b[39menergy_state\u001b[38;5;241m.\u001b[39mupdate_current(e, x_visit)\n",
      "File \u001b[0;32m~/miniconda3/envs/Volumetric_ART/lib/python3.10/site-packages/scipy/optimize/_dual_annealing.py:381\u001b[0m, in \u001b[0;36mObjectiveFunWrapper.fun\u001b[0;34m(self, x)\u001b[0m\n\u001b[1;32m    379\u001b[0m \u001b[38;5;28;01mdef\u001b[39;00m\u001b[38;5;250m \u001b[39m\u001b[38;5;21mfun\u001b[39m(\u001b[38;5;28mself\u001b[39m, x):\n\u001b[1;32m    380\u001b[0m     \u001b[38;5;28mself\u001b[39m\u001b[38;5;241m.\u001b[39mnfev \u001b[38;5;241m+\u001b[39m\u001b[38;5;241m=\u001b[39m \u001b[38;5;241m1\u001b[39m\n\u001b[0;32m--> 381\u001b[0m     \u001b[38;5;28;01mreturn\u001b[39;00m \u001b[38;5;28;43mself\u001b[39;49m\u001b[38;5;241;43m.\u001b[39;49m\u001b[43mfunc\u001b[49m\u001b[43m(\u001b[49m\u001b[43mx\u001b[49m\u001b[43m,\u001b[49m\u001b[43m \u001b[49m\u001b[38;5;241;43m*\u001b[39;49m\u001b[38;5;28;43mself\u001b[39;49m\u001b[38;5;241;43m.\u001b[39;49m\u001b[43margs\u001b[49m\u001b[43m)\u001b[49m\n",
      "Cell \u001b[0;32mIn[151], line 57\u001b[0m, in \u001b[0;36m<lambda>\u001b[0;34m(x)\u001b[0m\n\u001b[1;32m     54\u001b[0m val_data \u001b[38;5;241m=\u001b[39m {key: all_data[key] \u001b[38;5;28;01mfor\u001b[39;00m key \u001b[38;5;129;01min\u001b[39;00m X_val\u001b[38;5;241m.\u001b[39mflatten()}\n\u001b[1;32m     56\u001b[0m \u001b[38;5;66;03m# Learn threshold\u001b[39;00m\n\u001b[0;32m---> 57\u001b[0m opt_threshold \u001b[38;5;241m=\u001b[39m dual_annealing(\u001b[38;5;28;01mlambda\u001b[39;00m x: \u001b[43mmodel\u001b[49m\u001b[43m(\u001b[49m\u001b[43mtrain_data\u001b[49m\u001b[43m,\u001b[49m\u001b[43m \u001b[49m\u001b[43mx\u001b[49m\u001b[43m,\u001b[49m\u001b[43m \u001b[49m\u001b[38;5;124;43m'\u001b[39;49m\u001b[38;5;124;43m4\u001b[39;49m\u001b[38;5;124;43m'\u001b[39;49m\u001b[43m)\u001b[49m, bounds\u001b[38;5;241m=\u001b[39m[(\u001b[38;5;241m-\u001b[39m\u001b[38;5;241m4\u001b[39m, \u001b[38;5;241m-\u001b[39m\u001b[38;5;241m1\u001b[39m)], maxiter\u001b[38;5;241m=\u001b[39m\u001b[38;5;241m1000\u001b[39m)\u001b[38;5;241m.\u001b[39mx\n\u001b[1;32m     58\u001b[0m threshold_list\u001b[38;5;241m.\u001b[39mappend(opt_threshold)\n\u001b[1;32m     60\u001b[0m error \u001b[38;5;241m=\u001b[39m model(test_data, opt_threshold, \u001b[38;5;124m'\u001b[39m\u001b[38;5;124m4\u001b[39m\u001b[38;5;124m'\u001b[39m)\n",
      "Cell \u001b[0;32mIn[149], line 29\u001b[0m, in \u001b[0;36mmodel\u001b[0;34m(all_data, thresholds, model_index, p_late_pun, p_false_negative, p_false_positive, f1_score)\u001b[0m\n\u001b[1;32m     25\u001b[0m estim_replan_fraction \u001b[38;5;241m=\u001b[39m \u001b[38;5;241m0\u001b[39m\n\u001b[1;32m     27\u001b[0m \u001b[38;5;28;01mfor\u001b[39;00m i \u001b[38;5;129;01min\u001b[39;00m \u001b[38;5;28mrange\u001b[39m(\u001b[38;5;241m5\u001b[39m, \u001b[38;5;28mlen\u001b[39m(data) \u001b[38;5;241m+\u001b[39m \u001b[38;5;241m1\u001b[39m):\n\u001b[1;32m     28\u001b[0m     \u001b[38;5;66;03m# Extract the features\u001b[39;00m\n\u001b[0;32m---> 29\u001b[0m     features \u001b[38;5;241m=\u001b[39m \u001b[43mfeature_extraction\u001b[49m\u001b[43m(\u001b[49m\u001b[43mdata\u001b[49m\u001b[43m[\u001b[49m\u001b[43m:\u001b[49m\u001b[43mi\u001b[49m\u001b[43m]\u001b[49m\u001b[43m,\u001b[49m\u001b[43m \u001b[49m\u001b[43mmodel_index\u001b[49m\u001b[38;5;241;43m=\u001b[39;49m\u001b[43mmodel_index\u001b[49m\u001b[43m)\u001b[49m\n\u001b[1;32m     31\u001b[0m     \u001b[38;5;28;01mif\u001b[39;00m (features \u001b[38;5;241m<\u001b[39m thresholds)\u001b[38;5;241m.\u001b[39mall():\n\u001b[1;32m     32\u001b[0m         \u001b[38;5;66;03m# print(f'patient {key} exceeded the threshold at {i} measurements')\u001b[39;00m\n\u001b[1;32m     33\u001b[0m         estim_replan_fraction \u001b[38;5;241m=\u001b[39m i\n",
      "Cell \u001b[0;32mIn[55], line 16\u001b[0m, in \u001b[0;36mfeature_extraction\u001b[0;34m(volume_diff, model_index)\u001b[0m\n\u001b[1;32m     14\u001b[0m y \u001b[38;5;241m=\u001b[39m volume_diff[\u001b[38;5;241m-\u001b[39m\u001b[38;5;241m5\u001b[39m:]\n\u001b[1;32m     15\u001b[0m A \u001b[38;5;241m=\u001b[39m np\u001b[38;5;241m.\u001b[39mvstack([x, np\u001b[38;5;241m.\u001b[39mones(\u001b[38;5;28mlen\u001b[39m(x))])\u001b[38;5;241m.\u001b[39mT\n\u001b[0;32m---> 16\u001b[0m feature3, c \u001b[38;5;241m=\u001b[39m \u001b[43mnp\u001b[49m\u001b[38;5;241;43m.\u001b[39;49m\u001b[43mlinalg\u001b[49m\u001b[38;5;241;43m.\u001b[39;49m\u001b[43mlstsq\u001b[49m\u001b[43m(\u001b[49m\u001b[43mA\u001b[49m\u001b[43m,\u001b[49m\u001b[43m \u001b[49m\u001b[43my\u001b[49m\u001b[43m,\u001b[49m\u001b[43m \u001b[49m\u001b[43mrcond\u001b[49m\u001b[38;5;241;43m=\u001b[39;49m\u001b[38;5;28;43;01mNone\u001b[39;49;00m\u001b[43m)\u001b[49m[\u001b[38;5;241m0\u001b[39m]\n\u001b[1;32m     18\u001b[0m \u001b[38;5;28;01mif\u001b[39;00m model_index \u001b[38;5;241m==\u001b[39m \u001b[38;5;124m'\u001b[39m\u001b[38;5;124m1\u001b[39m\u001b[38;5;124m'\u001b[39m:\n\u001b[1;32m     19\u001b[0m     \u001b[38;5;28;01mreturn\u001b[39;00m [feature1, feature2, feature3]\n",
      "File \u001b[0;32m~/miniconda3/envs/Volumetric_ART/lib/python3.10/site-packages/numpy/linalg/_linalg.py:2496\u001b[0m, in \u001b[0;36mlstsq\u001b[0;34m(a, b, rcond)\u001b[0m\n\u001b[1;32m   2494\u001b[0m \u001b[38;5;28;01mif\u001b[39;00m is_1d:\n\u001b[1;32m   2495\u001b[0m     b \u001b[38;5;241m=\u001b[39m b[:, newaxis]\n\u001b[0;32m-> 2496\u001b[0m \u001b[43m_assert_2d\u001b[49m\u001b[43m(\u001b[49m\u001b[43ma\u001b[49m\u001b[43m,\u001b[49m\u001b[43m \u001b[49m\u001b[43mb\u001b[49m\u001b[43m)\u001b[49m\n\u001b[1;32m   2497\u001b[0m m, n \u001b[38;5;241m=\u001b[39m a\u001b[38;5;241m.\u001b[39mshape[\u001b[38;5;241m-\u001b[39m\u001b[38;5;241m2\u001b[39m:]\n\u001b[1;32m   2498\u001b[0m m2, n_rhs \u001b[38;5;241m=\u001b[39m b\u001b[38;5;241m.\u001b[39mshape[\u001b[38;5;241m-\u001b[39m\u001b[38;5;241m2\u001b[39m:]\n",
      "File \u001b[0;32m~/miniconda3/envs/Volumetric_ART/lib/python3.10/site-packages/numpy/linalg/_linalg.py:186\u001b[0m, in \u001b[0;36m_assert_2d\u001b[0;34m(*arrays)\u001b[0m\n\u001b[1;32m    182\u001b[0m     \u001b[38;5;28;01melse\u001b[39;00m:\n\u001b[1;32m    183\u001b[0m         \u001b[38;5;28;01mreturn\u001b[39;00m ret\n\u001b[0;32m--> 186\u001b[0m \u001b[38;5;28;01mdef\u001b[39;00m\u001b[38;5;250m \u001b[39m\u001b[38;5;21m_assert_2d\u001b[39m(\u001b[38;5;241m*\u001b[39marrays):\n\u001b[1;32m    187\u001b[0m     \u001b[38;5;28;01mfor\u001b[39;00m a \u001b[38;5;129;01min\u001b[39;00m arrays:\n\u001b[1;32m    188\u001b[0m         \u001b[38;5;28;01mif\u001b[39;00m a\u001b[38;5;241m.\u001b[39mndim \u001b[38;5;241m!=\u001b[39m \u001b[38;5;241m2\u001b[39m:\n",
      "\u001b[0;31mKeyboardInterrupt\u001b[0m: "
     ]
    }
   ],
   "source": [
    "from itertools import product\n",
    "# Define Hyperparameters\n",
    "p_late_pun = [0.5, 0.6, 0.7, 0.8, 0.9]\n",
    "fp = [25, 100, 300, 500, 800, 1000]\n",
    "fn = [25, 100, 300, 500, 800, 1000]\n",
    "p_late_pun = [0.5, 0.9]\n",
    "fp = [25, 800]\n",
    "fn = [25, 800]\n",
    "\n",
    "# Define the parameter grid\n",
    "grid = list(product(p_late_pun, fp, fn))\n",
    "\n",
    "# LOOCV\n",
    "from sklearn.model_selection import LeaveOneOut\n",
    "import numpy as np\n",
    "\n",
    "# All data\n",
    "X = np.array([key for key in all_data.keys()]).reshape(-1, 1)\n",
    "y = np.array([all_data[key]['label'][0] for key in all_data.keys()]).reshape(-1, 1)\n",
    "\n",
    "error_matrix = np.zeros((5, 4)) # 5 Test sets, 4 Models\n",
    "f1_matrix = np.zeros((5, 4)) # 5 Test sets, 4 Models\n",
    "# Sample a random test set X times\n",
    "for m in range(5):\n",
    "    # Out of patients with y not 0, randomly sample 4 patients, and those with y=0, randomly sample 2 patients\n",
    "    test_index_replan =  np.random.choice(np.where(y.flatten() != 0)[0], size=4, replace=False)\n",
    "    test_index_no_replan = np.random.choice(np.where(y.flatten() == 0)[0], size=2, replace=False)\n",
    "    test_index = np.concatenate((test_index_replan, test_index_no_replan))\n",
    "\n",
    "    # Prepare the test and train data\n",
    "    X_test = X[test_index]\n",
    "    y_test = y[test_index]\n",
    "    X_ = np.delete(X, test_index, axis=0)\n",
    "    y_ = np.delete(y, test_index, axis=0)\n",
    "\n",
    "    print(f'Patient IDs in test set: {X_test.flatten()}')\n",
    "    print(f'Patient IDs in train set: {X_.flatten()}')\n",
    "\n",
    "   \n",
    "    # Iterate through all hyperparameter combinations\n",
    "    for i, (p_late_pun, fp, fn) in enumerate(grid):\n",
    "\n",
    "        loo = LeaveOneOut()\n",
    "        threshold_list = []\n",
    "        loocv_error_matrix = np.zeros((len(grid), len(X_)))\n",
    "        loocv_f1_matrix = np.zeros((len(grid), len(X_)))\n",
    "        for n, (train_index, val_index) in enumerate(loo.split(X_)):\n",
    "            print(f'Patient in evaluation set: {X_[val_index]}')\n",
    "            X_train, X_val = X_[train_index], X_[val_index]\n",
    "            # y_train, y_val = y_[train_index], y_[val_index]\n",
    " \n",
    "            \n",
    "            train_data = {key: all_data[key] for key in X_train.flatten()}\n",
    "            val_data = {key: all_data[key] for key in X_val.flatten()}\n",
    "            \n",
    "            # Learn threshold\n",
    "            opt_threshold = dual_annealing(lambda x: model(train_data, x, '4'), bounds=[(-4, -1)], maxiter=1000).x\n",
    "            threshold_list.append(opt_threshold)\n",
    "\n",
    "            error = model(test_data, opt_threshold, '4')\n",
    "            error_list.append(error)\n",
    "            loocv_error_matrix[i, n] = error\n",
    "\n",
    "            # Calculate f1-score\n",
    "            f1 = model(val_data, opt_threshold, '4', f1_score=True)\n",
    "            loocv_f1_matrix[i, n] = f1\n",
    "            \n",
    "        # Calculate the mean error for this hyperparameter combination\n",
    "        mean_error = np.mean(loocv_error_matrix[i, :])\n",
    "        error_matrix[m, i] = mean_error\n",
    "        mean_f1 = np.mean(loocv_f1_matrix[i, :])\n",
    "        f1_matrix[m, i] = mean_f1\n",
    "        print(threshold_list)\n",
    "\n",
    "        # break # Only one hyperparameter combination for now\n",
    "\n"
   ]
  },
  {
   "cell_type": "code",
   "execution_count": 150,
   "metadata": {},
   "outputs": [
    {
     "data": {
      "text/plain": [
       "array([[306.93333333,   0.        ,   0.        ,   0.        ],\n",
       "       [314.4       ,   0.        ,   0.        ,   0.        ],\n",
       "       [306.93333333,   0.        ,   0.        ,   0.        ],\n",
       "       [306.4       ,   0.        ,   0.        ,   0.        ],\n",
       "       [307.68      ,   0.        ,   0.        ,   0.        ]])"
      ]
     },
     "execution_count": 150,
     "metadata": {},
     "output_type": "execute_result"
    }
   ],
   "source": [
    "error_matrix"
   ]
  }
 ],
 "metadata": {
  "kernelspec": {
   "display_name": "Volumetric_ART",
   "language": "python",
   "name": "python3"
  },
  "language_info": {
   "codemirror_mode": {
    "name": "ipython",
    "version": 3
   },
   "file_extension": ".py",
   "mimetype": "text/x-python",
   "name": "python",
   "nbconvert_exporter": "python",
   "pygments_lexer": "ipython3",
   "version": "3.10.16"
  }
 },
 "nbformat": 4,
 "nbformat_minor": 2
}
